{
  "nbformat": 4,
  "nbformat_minor": 0,
  "metadata": {
    "colab": {
      "name": "MNIST_tensorflow.ipynb",
      "provenance": [],
      "authorship_tag": "ABX9TyP5Z+tPv9lBSEfklNw/LTKx"
    },
    "kernelspec": {
      "name": "python3",
      "display_name": "Python 3"
    },
    "language_info": {
      "name": "python"
    }
  },
  "cells": [
    {
      "cell_type": "markdown",
      "source": [
        "## Import relevant packages"
      ],
      "metadata": {
        "id": "ascYiYqQc7Tk"
      }
    },
    {
      "cell_type": "code",
      "execution_count": 1,
      "metadata": {
        "id": "VhpghOMcc10K"
      },
      "outputs": [],
      "source": [
        "import numpy as np\n",
        "import tensorflow as tf\n",
        "import tensorflow_datasets as tfds"
      ]
    },
    {
      "cell_type": "markdown",
      "source": [
        "## Loading the data"
      ],
      "metadata": {
        "id": "P7u0HQ-ldMva"
      }
    },
    {
      "cell_type": "code",
      "source": [
        "mnist_dataset , mnist_info = tfds.load(name = 'mnist' , with_info = True , as_supervised = True , try_gcs=True)"
      ],
      "metadata": {
        "id": "3fiXwsCsdPNM"
      },
      "execution_count": 3,
      "outputs": []
    },
    {
      "cell_type": "markdown",
      "source": [
        "## Extract train , validation and test dataset"
      ],
      "metadata": {
        "id": "ASy7yGvMedAx"
      }
    },
    {
      "cell_type": "code",
      "source": [
        "mnist_train , mnist_test = mnist_dataset['train'] , mnist_dataset['test']\n",
        "\n",
        "num_validation_samples = 0.1 * mnist_info.splits['train'].num_examples #gives num of training set samples\n",
        "num_validation_samples = tf.cast(num_validation_samples , tf.int64) #makes sure its integar and not float\n",
        "\n",
        "num_test_samples = mnist_info.splits['test'].num_examples\n",
        "num_test_samples = tf.cast( num_test_samples, tf.int64)\n",
        "\n"
      ],
      "metadata": {
        "id": "NgAXyY0beftg"
      },
      "execution_count": 12,
      "outputs": []
    },
    {
      "cell_type": "markdown",
      "source": [
        "## Scaling the data"
      ],
      "metadata": {
        "id": "c_Sl3UC3vBsX"
      }
    },
    {
      "cell_type": "code",
      "source": [
        "def scale(image , label) :\n",
        "  image = tf.cast(image , tf.float32)\n",
        "  image/= 255. #making the values between 0-255 into 0's and 1's\n",
        "  return image , label\n",
        "\n",
        "scaled_train_and_validation_dataset = mnist_train.map(scale)\n",
        "scaled_test_dataset = mnist_test.map(scale)\n"
      ],
      "metadata": {
        "id": "HKW3ZQfQvD4_"
      },
      "execution_count": 14,
      "outputs": []
    }
  ]
}